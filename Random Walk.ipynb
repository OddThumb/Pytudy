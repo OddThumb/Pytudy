{
 "cells": [
  {
   "cell_type": "markdown",
   "metadata": {},
   "source": [
    "---\n",
    "Authour: Sangin Kim\n",
    "Date   : 21 July 2023\n",
    "---"
   ]
  },
  {
   "cell_type": "markdown",
   "metadata": {},
   "source": [
    "# 2.4 Random Walk"
   ]
  },
  {
   "cell_type": "markdown",
   "metadata": {},
   "source": [
    "'술취한 바퀴벌레' 문제라고도 한다. 다음과 같은 격자에 술취한 바퀴벌레가 있다고 해보자."
   ]
  },
  {
   "cell_type": "markdown",
   "metadata": {},
   "source": [
    "| . | . | . | . |\n",
    "|---|---|---|---|\n",
    "| . | . | . | . |\n",
    "| . | . | . | . |\n",
    "| . | . | . | . |"
   ]
  },
  {
   "cell_type": "markdown",
   "metadata": {},
   "source": [
    "바퀴벌레는 임의의 한 점에서 시작하여서 임의의 방향으로 움직이게 된다. 이미 지나갔던 자리에 다시 갈 수 있으며 프로그램은 바퀴벌레가 각 위치에 몇번 갔는지 기억하여야 한다. 프로그램은 바퀴벌레가 모든 지점에 적어도 한번 이상 도달하였을 경우 끝난다. 바퀴벌레는 가로, 세로, 대각선으로 한칸 씩만 움직일 수 있으며, 바퀴벌레가 움직이는 방향을 랜덤하게 만드는 것은 각자가 생각해 보도록 한다."
   ]
  },
  {
   "cell_type": "markdown",
   "metadata": {},
   "source": [
    "---"
   ]
  },
  {
   "cell_type": "markdown",
   "metadata": {},
   "source": [
    "## (1) Walker's direction"
   ]
  },
  {
   "cell_type": "markdown",
   "metadata": {},
   "source": [
    "바퀴벌레는 아래와 같이 여덟 방향으로 움직일 수 있다."
   ]
  },
  {
   "cell_type": "markdown",
   "metadata": {},
   "source": [
    " | ⇖ | ⇑ | ⇗ |\n",
    "|---|---|---|\n",
    "| ⇐ | . | ⇒ |  \n",
    "| ⇙ | ⇓ | ⇘ |"
   ]
  },
  {
   "cell_type": "markdown",
   "metadata": {},
   "source": [
    "각 방향에 해당하는 어레이 (array) 상 인덱스 방향성은,"
   ]
  },
  {
   "cell_type": "markdown",
   "metadata": {},
   "source": [
    "⇖: (-1,-1) / ⇑: ( 0,-1) / ⇗: ( 1,-1)"
   ]
  },
  {
   "cell_type": "markdown",
   "metadata": {},
   "source": [
    "⇐: (-1, 0) / _______ / ⇒: ( 1, 0)"
   ]
  },
  {
   "cell_type": "markdown",
   "metadata": {},
   "source": [
    "⇙: (-1, 1) /  ⇓: ( 0, 1)  / ⇘: ( 1, 1)"
   ]
  },
  {
   "cell_type": "markdown",
   "metadata": {},
   "source": [
    "## (2) Define `init()` function"
   ]
  },
  {
   "cell_type": "code",
   "execution_count": 5,
   "metadata": {},
   "outputs": [],
   "source": [
    "import numpy as np\n",
    "def init(nrow, ncol):\n",
    "    # Grid configuration\n",
    "    grid = np.zeros((nrow,ncol),dtype=np.int8)\n",
    "\n",
    "    # Initial position\n",
    "    x_init = np.random.randint(3)\n",
    "    y_init = np.random.randint(3)\n",
    "    grid[y_init, x_init] += 1\n",
    "\n",
    "    # Others\n",
    "    directions = ((-1,-1), ( 0,-1), ( 1,-1), (-1, 0), ( 1, 0), (-1, 1), ( 0, 1), ( 1, 1))\n",
    "    trace_pos=[]\n",
    "    trace_dir=[]\n",
    "    trace_grid=[]\n",
    "\n",
    "    return((grid, x_init, y_init, directions, trace_pos, trace_dir, trace_grid))"
   ]
  },
  {
   "cell_type": "markdown",
   "metadata": {},
   "source": [
    "## (3) Define `main()` function"
   ]
  },
  {
   "cell_type": "code",
   "execution_count": 7,
   "metadata": {},
   "outputs": [],
   "source": [
    "def main(nrow, ncol, show=True):\n",
    "    # Initialize\n",
    "    grid, x_init, y_init, directions, trace_pos, trace_dir, trace_grid = init(nrow, ncol)\n",
    "\n",
    "    # Conserve initial position\n",
    "    x_next = x_init\n",
    "    y_next = y_init\n",
    "\n",
    "    # Print while function is running\n",
    "    if show:\n",
    "        print(grid)\n",
    "        print(\"\")\n",
    "\n",
    "    # Store initial grid and position\n",
    "    trace_grid.append(grid.copy())\n",
    "    trace_pos.append((x_next,y_next)) \n",
    "\n",
    "    # Moving start\n",
    "    i = 0\n",
    "    \n",
    "    # Loop for each step\n",
    "    while True:\n",
    "        i += 1 # step increases\n",
    "\n",
    "        # Moving within boundary condition\n",
    "        while True:\n",
    "            direc_idx = np.random.randint(8)\n",
    "            direc = directions[direc_idx]\n",
    "            x_test = x_next + direc[0]\n",
    "            y_test = y_next + direc[1]\n",
    "            if (x_test >= 0 and x_test < ncol) and (y_test >= 0 and y_test < nrow):\n",
    "                x_next, y_next = x_test, y_test\n",
    "                break\n",
    "        \n",
    "        # Update grid, position, direction\n",
    "        grid[(y_next,x_next)] += 1\n",
    "        trace_pos.append((x_next,y_next)) \n",
    "        trace_dir.append(direc)\n",
    "        trace_grid.append(grid.copy())\n",
    "\n",
    "        # Print\n",
    "        if show:\n",
    "            print(grid)\n",
    "            print(\"\")\n",
    "\n",
    "        # Check there is any 0 in grid\n",
    "        if (grid != 0).all():\n",
    "            break\n",
    "\n",
    "    \n",
    "    return(dict(grid=trace_grid, position=trace_pos, direction=trace_dir, steps=i))"
   ]
  },
  {
   "cell_type": "markdown",
   "metadata": {},
   "source": [
    "## (4) Testing `main()` function"
   ]
  },
  {
   "cell_type": "markdown",
   "metadata": {},
   "source": [
    "### - 4 x 4 grid"
   ]
  },
  {
   "cell_type": "code",
   "execution_count": 34,
   "metadata": {},
   "outputs": [],
   "source": [
    "test_4x4 = main(ncol=4, nrow=4, show=False) # `show=True` to print each steps"
   ]
  },
  {
   "cell_type": "markdown",
   "metadata": {},
   "source": [
    "#### Print results of 3 heads and 3 tails"
   ]
  },
  {
   "cell_type": "code",
   "execution_count": 35,
   "metadata": {},
   "outputs": [
    {
     "name": "stdout",
     "output_type": "stream",
     "text": [
      "\n",
      "  > grid:\n",
      "[array([[0, 0, 0, 0],\n",
      "       [0, 0, 0, 0],\n",
      "       [0, 1, 0, 0],\n",
      "       [0, 0, 0, 0]], dtype=int8), array([[0, 0, 0, 0],\n",
      "       [0, 0, 0, 0],\n",
      "       [0, 1, 0, 0],\n",
      "       [0, 0, 1, 0]], dtype=int8), array([[0, 0, 0, 0],\n",
      "       [0, 0, 0, 0],\n",
      "       [0, 1, 0, 1],\n",
      "       [0, 0, 1, 0]], dtype=int8)]\n",
      "    .\n",
      "    .\n",
      "    .\n",
      "[array([[ 0,  2,  3,  1],\n",
      "       [ 0,  2,  6,  6],\n",
      "       [ 3,  9, 11,  7],\n",
      "       [ 4, 10, 11,  3]], dtype=int8), array([[ 0,  2,  3,  1],\n",
      "       [ 1,  2,  6,  6],\n",
      "       [ 3,  9, 11,  7],\n",
      "       [ 4, 10, 11,  3]], dtype=int8), array([[ 1,  2,  3,  1],\n",
      "       [ 1,  2,  6,  6],\n",
      "       [ 3,  9, 11,  7],\n",
      "       [ 4, 10, 11,  3]], dtype=int8)]\n"
     ]
    }
   ],
   "source": [
    "print(\"\"\"\n",
    "  > grid:\"\"\")\n",
    "print(test_4x4[\"grid\"][:3])\n",
    "print(\"\"\"    .\n",
    "    .\n",
    "    .\"\"\")\n",
    "print(test_4x4[\"grid\"][-3:])"
   ]
  },
  {
   "cell_type": "code",
   "execution_count": 36,
   "metadata": {},
   "outputs": [
    {
     "name": "stdout",
     "output_type": "stream",
     "text": [
      "\n",
      "  > position:\n",
      "[(1, 2), (2, 3), (3, 2)]\n",
      "    .\n",
      "    .\n",
      "    .\n",
      "[(0, 2), (0, 1), (0, 0)]\n"
     ]
    }
   ],
   "source": [
    "print(\"\"\"\n",
    "  > position:\"\"\")\n",
    "print(test_4x4[\"position\"][:3])\n",
    "print(\"\"\"    .\n",
    "    .\n",
    "    .\"\"\")\n",
    "print(test_4x4[\"position\"][-3:])"
   ]
  },
  {
   "cell_type": "code",
   "execution_count": 37,
   "metadata": {},
   "outputs": [
    {
     "name": "stdout",
     "output_type": "stream",
     "text": [
      "\n",
      "  > direction:\n",
      "[(1, 1), (1, -1), (0, -1)]\n",
      "    .\n",
      "    .\n",
      "    .\n",
      "[(-1, -1), (0, -1), (0, -1)]\n"
     ]
    }
   ],
   "source": [
    "print(\"\"\"\n",
    "  > direction:\"\"\")\n",
    "print(test_4x4[\"direction\"][:3])\n",
    "print(\"\"\"    .\n",
    "    .\n",
    "    .\"\"\")\n",
    "print(test_4x4[\"direction\"][-3:])"
   ]
  },
  {
   "cell_type": "code",
   "execution_count": 38,
   "metadata": {},
   "outputs": [
    {
     "name": "stdout",
     "output_type": "stream",
     "text": [
      "> steps:79\n"
     ]
    }
   ],
   "source": [
    "print(\"> steps:\"+str(test_4x4[\"steps\"]))"
   ]
  },
  {
   "cell_type": "markdown",
   "metadata": {},
   "source": [
    "### - 10 x 10 grid"
   ]
  },
  {
   "cell_type": "code",
   "execution_count": 39,
   "metadata": {},
   "outputs": [],
   "source": [
    "test_10x10 = main(ncol=10, nrow=10, show=False) # `show=True` to print each steps"
   ]
  },
  {
   "cell_type": "markdown",
   "metadata": {},
   "source": [
    "#### Print results of 3 heads and 3 tails"
   ]
  },
  {
   "cell_type": "code",
   "execution_count": 40,
   "metadata": {},
   "outputs": [
    {
     "name": "stdout",
     "output_type": "stream",
     "text": [
      "\n",
      "  > grid:\n",
      "[array([[0, 0, 0, 0, 0, 0, 0, 0, 0, 0],\n",
      "       [0, 0, 0, 0, 0, 0, 0, 0, 0, 0],\n",
      "       [0, 0, 1, 0, 0, 0, 0, 0, 0, 0],\n",
      "       [0, 0, 0, 0, 0, 0, 0, 0, 0, 0],\n",
      "       [0, 0, 0, 0, 0, 0, 0, 0, 0, 0],\n",
      "       [0, 0, 0, 0, 0, 0, 0, 0, 0, 0],\n",
      "       [0, 0, 0, 0, 0, 0, 0, 0, 0, 0],\n",
      "       [0, 0, 0, 0, 0, 0, 0, 0, 0, 0],\n",
      "       [0, 0, 0, 0, 0, 0, 0, 0, 0, 0],\n",
      "       [0, 0, 0, 0, 0, 0, 0, 0, 0, 0]], dtype=int8), array([[0, 0, 0, 0, 0, 0, 0, 0, 0, 0],\n",
      "       [0, 0, 0, 0, 0, 0, 0, 0, 0, 0],\n",
      "       [0, 0, 1, 1, 0, 0, 0, 0, 0, 0],\n",
      "       [0, 0, 0, 0, 0, 0, 0, 0, 0, 0],\n",
      "       [0, 0, 0, 0, 0, 0, 0, 0, 0, 0],\n",
      "       [0, 0, 0, 0, 0, 0, 0, 0, 0, 0],\n",
      "       [0, 0, 0, 0, 0, 0, 0, 0, 0, 0],\n",
      "       [0, 0, 0, 0, 0, 0, 0, 0, 0, 0],\n",
      "       [0, 0, 0, 0, 0, 0, 0, 0, 0, 0],\n",
      "       [0, 0, 0, 0, 0, 0, 0, 0, 0, 0]], dtype=int8), array([[0, 0, 0, 0, 0, 0, 0, 0, 0, 0],\n",
      "       [0, 0, 0, 0, 0, 0, 0, 0, 0, 0],\n",
      "       [0, 0, 2, 1, 0, 0, 0, 0, 0, 0],\n",
      "       [0, 0, 0, 0, 0, 0, 0, 0, 0, 0],\n",
      "       [0, 0, 0, 0, 0, 0, 0, 0, 0, 0],\n",
      "       [0, 0, 0, 0, 0, 0, 0, 0, 0, 0],\n",
      "       [0, 0, 0, 0, 0, 0, 0, 0, 0, 0],\n",
      "       [0, 0, 0, 0, 0, 0, 0, 0, 0, 0],\n",
      "       [0, 0, 0, 0, 0, 0, 0, 0, 0, 0],\n",
      "       [0, 0, 0, 0, 0, 0, 0, 0, 0, 0]], dtype=int8)]\n",
      "    .\n",
      "    .\n",
      "    .\n",
      "[array([[ 6,  7,  8,  9, 21, 23, 21, 19, 22, 18],\n",
      "       [14, 19, 21, 27, 29, 27, 24, 36, 39, 31],\n",
      "       [13, 17, 21, 32, 25, 30, 29, 19, 31, 25],\n",
      "       [12, 15, 23, 18, 22, 24, 21, 29, 28, 20],\n",
      "       [15, 23, 13, 18, 11, 21, 26, 36, 24, 16],\n",
      "       [21, 32, 21, 11, 18, 15, 15, 23, 16,  9],\n",
      "       [19, 23, 19, 26, 16, 15, 18, 12, 10,  6],\n",
      "       [ 8, 14, 17, 21, 26, 18, 11,  9,  8,  2],\n",
      "       [ 2,  6, 13, 17, 20, 10, 10, 11,  7,  4],\n",
      "       [ 0,  4,  7,  6,  7,  8,  7,  3,  7,  3]], dtype=int8), array([[ 6,  7,  8,  9, 21, 23, 21, 19, 22, 18],\n",
      "       [14, 19, 21, 27, 29, 27, 24, 36, 39, 31],\n",
      "       [13, 17, 21, 32, 25, 30, 29, 19, 31, 25],\n",
      "       [12, 15, 23, 18, 22, 24, 21, 29, 28, 20],\n",
      "       [15, 23, 13, 18, 11, 21, 26, 36, 24, 16],\n",
      "       [21, 32, 21, 11, 18, 15, 15, 23, 16,  9],\n",
      "       [19, 23, 19, 26, 16, 15, 18, 12, 10,  6],\n",
      "       [ 8, 14, 17, 21, 26, 18, 11,  9,  8,  2],\n",
      "       [ 3,  6, 13, 17, 20, 10, 10, 11,  7,  4],\n",
      "       [ 0,  4,  7,  6,  7,  8,  7,  3,  7,  3]], dtype=int8), array([[ 6,  7,  8,  9, 21, 23, 21, 19, 22, 18],\n",
      "       [14, 19, 21, 27, 29, 27, 24, 36, 39, 31],\n",
      "       [13, 17, 21, 32, 25, 30, 29, 19, 31, 25],\n",
      "       [12, 15, 23, 18, 22, 24, 21, 29, 28, 20],\n",
      "       [15, 23, 13, 18, 11, 21, 26, 36, 24, 16],\n",
      "       [21, 32, 21, 11, 18, 15, 15, 23, 16,  9],\n",
      "       [19, 23, 19, 26, 16, 15, 18, 12, 10,  6],\n",
      "       [ 8, 14, 17, 21, 26, 18, 11,  9,  8,  2],\n",
      "       [ 3,  6, 13, 17, 20, 10, 10, 11,  7,  4],\n",
      "       [ 1,  4,  7,  6,  7,  8,  7,  3,  7,  3]], dtype=int8)]\n"
     ]
    }
   ],
   "source": [
    "print(\"\"\"\n",
    "  > grid:\"\"\")\n",
    "print(test_10x10[\"grid\"][:3])\n",
    "print(\"\"\"    .\n",
    "    .\n",
    "    .\"\"\")\n",
    "print(test_10x10[\"grid\"][-3:])"
   ]
  },
  {
   "cell_type": "code",
   "execution_count": 41,
   "metadata": {},
   "outputs": [
    {
     "name": "stdout",
     "output_type": "stream",
     "text": [
      "\n",
      "  > position:\n",
      "[(2, 2), (3, 2), (2, 2)]\n",
      "    .\n",
      "    .\n",
      "    .\n",
      "[(1, 8), (0, 8), (0, 9)]\n"
     ]
    }
   ],
   "source": [
    "print(\"\"\"\n",
    "  > position:\"\"\")\n",
    "print(test_10x10[\"position\"][:3])\n",
    "print(\"\"\"    .\n",
    "    .\n",
    "    .\"\"\")\n",
    "print(test_10x10[\"position\"][-3:])"
   ]
  },
  {
   "cell_type": "code",
   "execution_count": 42,
   "metadata": {},
   "outputs": [
    {
     "name": "stdout",
     "output_type": "stream",
     "text": [
      "\n",
      "  > direction:\n",
      "[(1, 0), (-1, 0), (0, 1)]\n",
      "    .\n",
      "    .\n",
      "    .\n",
      "[(-1, -1), (-1, 0), (0, 1)]\n"
     ]
    }
   ],
   "source": [
    "print(\"\"\"\n",
    "  > direction:\"\"\")\n",
    "print(test_10x10[\"direction\"][:3])\n",
    "print(\"\"\"    .\n",
    "    .\n",
    "    .\"\"\")\n",
    "print(test_10x10[\"direction\"][-3:])"
   ]
  },
  {
   "cell_type": "code",
   "execution_count": 43,
   "metadata": {},
   "outputs": [
    {
     "name": "stdout",
     "output_type": "stream",
     "text": [
      "> steps:1710\n"
     ]
    }
   ],
   "source": [
    "print(\"> steps:\"+str(test_10x10[\"steps\"]))"
   ]
  },
  {
   "cell_type": "markdown",
   "metadata": {},
   "source": [
    "## (5) Plot histogram of steps from 1000 trials for 4x4 grid"
   ]
  },
  {
   "cell_type": "markdown",
   "metadata": {},
   "source": [
    "steps = \"How long does the walker survive?\""
   ]
  },
  {
   "cell_type": "code",
   "execution_count": 45,
   "metadata": {},
   "outputs": [],
   "source": [
    "ndim = 4   # 4x4\n",
    "steps=[]\n",
    "for i in range(1000):\n",
    "    steps.append( main(ndim,ndim,show=False)[\"steps\"] )"
   ]
  },
  {
   "cell_type": "code",
   "execution_count": 49,
   "metadata": {},
   "outputs": [],
   "source": [
    "import matplotlib.pyplot as plt"
   ]
  },
  {
   "cell_type": "code",
   "execution_count": 48,
   "metadata": {},
   "outputs": [
    {
     "data": {
      "image/png": "[encoded data removed]",
      "text/plain": [
       "<Figure size 640x480 with 1 Axes>"
      ]
     },
     "metadata": {},
     "output_type": "display_data"
    }
   ],
   "source": [
    "plt.hist(steps)\n",
    "plt.xlabel(\"steps\")\n",
    "plt.ylabel(\"counts\")\n",
    "plt.show()"
   ]
  },
  {
   "cell_type": "markdown",
   "metadata": {},
   "source": [
    "## (6) Plot histogram of steps from 1000 trials for 4x4 ~ 10x10 grids"
   ]
  },
  {
   "cell_type": "code",
   "execution_count": 50,
   "metadata": {},
   "outputs": [],
   "source": [
    "ndims=[]\n",
    "trial_dims=range(4, 11)\n",
    "for n in trial_dims:\n",
    "    ndim = n\n",
    "    steps_temp=[]\n",
    "    for i in range(1000):\n",
    "        steps_temp.append(main(ndim,ndim,show=False)[\"steps\"])\n",
    "    ndims.append(steps_temp)"
   ]
  },
  {
   "cell_type": "code",
   "execution_count": 51,
   "metadata": {},
   "outputs": [
    {
     "data": {
      "image/png": "[encoded data removed]",
      "text/plain": [
       "<Figure size 640x480 with 1 Axes>"
      ]
     },
     "metadata": {},
     "output_type": "display_data"
    }
   ],
   "source": [
    "for i in range(len(ndims)):\n",
    "    plt.hist(ndims[i], bins=25, alpha=0.3, label=list(trial_dims)[i])\n",
    "plt.xlabel(\"steps\")\n",
    "plt.ylabel(\"counts\")\n",
    "plt.legend()\n",
    "plt.show()"
   ]
  }
 ],
 "metadata": {
  "kernelspec": {
   "display_name": "base",
   "language": "python",
   "name": "python3"
  },
  "language_info": {
   "codemirror_mode": {
    "name": "ipython",
    "version": 3
   },
   "file_extension": ".py",
   "mimetype": "text/x-python",
   "name": "python",
   "nbconvert_exporter": "python",
   "pygments_lexer": "ipython3",
   "version": "3.9.12"
  },
  "orig_nbformat": 4
 },
 "nbformat": 4,
 "nbformat_minor": 2
}
