{
 "cells": [
  {
   "cell_type": "markdown",
   "metadata": {},
   "source": [
    "~~~\n",
    "Author: Sangin Kim\n",
    "Date  : 7 August 2023\n",
    "~~~"
   ]
  },
  {
   "cell_type": "markdown",
   "metadata": {},
   "source": [
    "> # [ Multiples of 3 and 5 ]\n",
    "> #### `10` 미만의 자연수에서 `3`과 `5`의 배수를 구하면 `3, 5, 6, 9`이다.\n",
    "> #### 이들의 총합은 `23` 이다.\n",
    "> #### `1000` 미만의 자연수에서 `3,5`의 배수의 총합을 구하라."
   ]
  },
  {
   "cell_type": "markdown",
   "metadata": {},
   "source": [
    "----"
   ]
  },
  {
   "cell_type": "markdown",
   "metadata": {},
   "source": [
    "# 1. Define a function, `search_multiples_of_two`"
   ]
  },
  {
   "cell_type": "code",
   "execution_count": 1,
   "metadata": {},
   "outputs": [],
   "source": [
    "def search_multiples_of_two(upp_lim, divisor1, divisor2, output=\"set\"):\n",
    "    import numpy as np\n",
    "\n",
    "    # Span natural numbers with upper limit\n",
    "    N_list = np.arange(1,upp_lim+1)\n",
    "\n",
    "    # Check which meets the condition (N % divisor == 0)\n",
    "    logic_idx1 = list(map(lambda x: x % divisor1 == 0, N_list))\n",
    "    logic_idx2 = list(map(lambda x: x % divisor2 == 0, N_list))\n",
    "\n",
    "    # Select numbers with condition\n",
    "    multiples1 = N_list[np.argwhere(logic_idx1)].T[0]\n",
    "    multiples2 = N_list[np.argwhere(logic_idx2)].T[0]\n",
    "\n",
    "    # Concatenate two multiples\n",
    "    concat_multiples = np.concatenate([multiples1, multiples2])\n",
    "\n",
    "    # Duplicated numbers need to be eliminated\n",
    "    if output==\"set\":\n",
    "        # Using set()\n",
    "        multiples = set(concat_multiples)\n",
    "    elif output==\"array\":\n",
    "        # Using unique()\n",
    "        multiples = np.unique(concat_multiples)\n",
    "    else:\n",
    "        raise ValueError(\"output must be one of 'set' or 'array'\")\n",
    "    \n",
    "    return(multiples)"
   ]
  },
  {
   "cell_type": "markdown",
   "metadata": {},
   "source": [
    "# 2. Test `search_multiples_of_two`"
   ]
  },
  {
   "cell_type": "markdown",
   "metadata": {},
   "source": [
    "> #### If `output=\"set\"`, return value type will be `set`.\n",
    "> #### or `output=\"array\"`, then `numpy.array`."
   ]
  },
  {
   "cell_type": "code",
   "execution_count": 5,
   "metadata": {},
   "outputs": [
    {
     "name": "stdout",
     "output_type": "stream",
     "text": [
      "{3, 5, 6, 9, 10, 12, 15, 18, 20, 21, 24, 25, 27, 30, 33, 35, 36, 39, 40, 42, 45, 48, 50, 51, 54, 55, 57, 60, 63, 65, 66, 69, 70, 72, 75, 78, 80, 81, 84, 85, 87, 90, 93, 95, 96, 99, 100, 102, 105, 108, 110, 111, 114, 115, 117, 120, 123, 125, 126, 129, 130, 132, 135, 138, 140, 141, 144, 145, 147, 150, 153, 155, 156, 159, 160, 162, 165, 168, 170, 171, 174, 175, 177, 180, 183, 185, 186, 189, 190, 192, 195, 198, 200, 201, 204, 205, 207, 210, 213, 215, 216, 219, 220, 222, 225, 228, 230, 231, 234, 235, 237, 240, 243, 245, 246, 249, 250, 252, 255, 258, 260, 261, 264, 265, 267, 270, 273, 275, 276, 279, 280, 282, 285, 288, 290, 291, 294, 295, 297, 300, 303, 305, 306, 309, 310, 312, 315, 318, 320, 321, 324, 325, 327, 330, 333, 335, 336, 339, 340, 342, 345, 348, 350, 351, 354, 355, 357, 360, 363, 365, 366, 369, 370, 372, 375, 378, 380, 381, 384, 385, 387, 390, 393, 395, 396, 399, 400, 402, 405, 408, 410, 411, 414, 415, 417, 420, 423, 425, 426, 429, 430, 432, 435, 438, 440, 441, 444, 445, 447, 450, 453, 455, 456, 459, 460, 462, 465, 468, 470, 471, 474, 475, 477, 480, 483, 485, 486, 489, 490, 492, 495, 498, 500, 501, 504, 505, 507, 510, 513, 515, 516, 519, 520, 522, 525, 528, 530, 531, 534, 535, 537, 540, 543, 545, 546, 549, 550, 552, 555, 558, 560, 561, 564, 565, 567, 570, 573, 575, 576, 579, 580, 582, 585, 588, 590, 591, 594, 595, 597, 600, 603, 605, 606, 609, 610, 612, 615, 618, 620, 621, 624, 625, 627, 630, 633, 635, 636, 639, 640, 642, 645, 648, 650, 651, 654, 655, 657, 660, 663, 665, 666, 669, 670, 672, 675, 678, 680, 681, 684, 685, 687, 690, 693, 695, 696, 699, 700, 702, 705, 708, 710, 711, 714, 715, 717, 720, 723, 725, 726, 729, 730, 732, 735, 738, 740, 741, 744, 745, 747, 750, 753, 755, 756, 759, 760, 762, 765, 768, 770, 771, 774, 775, 777, 780, 783, 785, 786, 789, 790, 792, 795, 798, 800, 801, 804, 805, 807, 810, 813, 815, 816, 819, 820, 822, 825, 828, 830, 831, 834, 835, 837, 840, 843, 845, 846, 849, 850, 852, 855, 858, 860, 861, 864, 865, 867, 870, 873, 875, 876, 879, 880, 882, 885, 888, 890, 891, 894, 895, 897, 900, 903, 905, 906, 909, 910, 912, 915, 918, 920, 921, 924, 925, 927, 930, 933, 935, 936, 939, 940, 942, 945, 948, 950, 951, 954, 955, 957, 960, 963, 965, 966, 969, 970, 972, 975, 978, 980, 981, 984, 985, 987, 990, 993, 995, 996, 999, 1000}\n"
     ]
    }
   ],
   "source": [
    "set_output = search_multiples_of_two(1000, 3, 5, output=\"set\")\n",
    "print(set_output)"
   ]
  },
  {
   "cell_type": "code",
   "execution_count": 6,
   "metadata": {},
   "outputs": [
    {
     "name": "stdout",
     "output_type": "stream",
     "text": [
      "> Answer: 234168\n"
     ]
    }
   ],
   "source": [
    "print(\"> Answer: \" + str(sum(set_output)))"
   ]
  },
  {
   "cell_type": "code",
   "execution_count": 7,
   "metadata": {},
   "outputs": [
    {
     "name": "stdout",
     "output_type": "stream",
     "text": [
      "[   3    5    6    9   10   12   15   18   20   21   24   25   27   30\n",
      "   33   35   36   39   40   42   45   48   50   51   54   55   57   60\n",
      "   63   65   66   69   70   72   75   78   80   81   84   85   87   90\n",
      "   93   95   96   99  100  102  105  108  110  111  114  115  117  120\n",
      "  123  125  126  129  130  132  135  138  140  141  144  145  147  150\n",
      "  153  155  156  159  160  162  165  168  170  171  174  175  177  180\n",
      "  183  185  186  189  190  192  195  198  200  201  204  205  207  210\n",
      "  213  215  216  219  220  222  225  228  230  231  234  235  237  240\n",
      "  243  245  246  249  250  252  255  258  260  261  264  265  267  270\n",
      "  273  275  276  279  280  282  285  288  290  291  294  295  297  300\n",
      "  303  305  306  309  310  312  315  318  320  321  324  325  327  330\n",
      "  333  335  336  339  340  342  345  348  350  351  354  355  357  360\n",
      "  363  365  366  369  370  372  375  378  380  381  384  385  387  390\n",
      "  393  395  396  399  400  402  405  408  410  411  414  415  417  420\n",
      "  423  425  426  429  430  432  435  438  440  441  444  445  447  450\n",
      "  453  455  456  459  460  462  465  468  470  471  474  475  477  480\n",
      "  483  485  486  489  490  492  495  498  500  501  504  505  507  510\n",
      "  513  515  516  519  520  522  525  528  530  531  534  535  537  540\n",
      "  543  545  546  549  550  552  555  558  560  561  564  565  567  570\n",
      "  573  575  576  579  580  582  585  588  590  591  594  595  597  600\n",
      "  603  605  606  609  610  612  615  618  620  621  624  625  627  630\n",
      "  633  635  636  639  640  642  645  648  650  651  654  655  657  660\n",
      "  663  665  666  669  670  672  675  678  680  681  684  685  687  690\n",
      "  693  695  696  699  700  702  705  708  710  711  714  715  717  720\n",
      "  723  725  726  729  730  732  735  738  740  741  744  745  747  750\n",
      "  753  755  756  759  760  762  765  768  770  771  774  775  777  780\n",
      "  783  785  786  789  790  792  795  798  800  801  804  805  807  810\n",
      "  813  815  816  819  820  822  825  828  830  831  834  835  837  840\n",
      "  843  845  846  849  850  852  855  858  860  861  864  865  867  870\n",
      "  873  875  876  879  880  882  885  888  890  891  894  895  897  900\n",
      "  903  905  906  909  910  912  915  918  920  921  924  925  927  930\n",
      "  933  935  936  939  940  942  945  948  950  951  954  955  957  960\n",
      "  963  965  966  969  970  972  975  978  980  981  984  985  987  990\n",
      "  993  995  996  999 1000]\n"
     ]
    }
   ],
   "source": [
    "arr_output = search_multiples_of_two(1000, 3, 5, output=\"array\")\n",
    "print(arr_output)"
   ]
  },
  {
   "cell_type": "code",
   "execution_count": 24,
   "metadata": {},
   "outputs": [
    {
     "name": "stdout",
     "output_type": "stream",
     "text": [
      "> Answer: 234168\n",
      "  SAME AS ABOVE!\n"
     ]
    }
   ],
   "source": [
    "print(\"> Answer: \" + str(sum(arr_output)) + \"\\n  SAME AS ABOVE!\")"
   ]
  },
  {
   "cell_type": "markdown",
   "metadata": {},
   "source": [
    "# 3. Let's extend with more divisors "
   ]
  },
  {
   "cell_type": "markdown",
   "metadata": {},
   "source": [
    "### - `search_multiples(upp_lim, divisor_list, output=\"array\")`"
   ]
  },
  {
   "cell_type": "markdown",
   "metadata": {},
   "source": [
    "`search_multiples` attains divisors as a `list`"
   ]
  },
  {
   "cell_type": "code",
   "execution_count": 12,
   "metadata": {},
   "outputs": [],
   "source": [
    "def search_multiples(upp_lim, divisor_list, output=\"array\"):\n",
    "    import numpy as np\n",
    "    \n",
    "    # Span natural numbers with upper limit\n",
    "    N_list = np.arange(1,upp_lim+1)\n",
    "\n",
    "    # Check which meets the condition (N % divisor == 0)\n",
    "    multiple_list=[]\n",
    "    for d in divisor_list:\n",
    "        logic_idx = list(map(lambda x: x % d == 0, N_list))\n",
    "        \n",
    "        # Select numbers with condition\n",
    "        multiples = N_list[np.argwhere(logic_idx)].T[0]\n",
    "        multiple_list.append(multiples)\n",
    "\n",
    "    # Concatenate two multiples\n",
    "    concat_multiples = np.concatenate(multiple_list)\n",
    "\n",
    "    # Duplicated numbers need to be eliminated\n",
    "    if output==\"set\":\n",
    "        # Using set()\n",
    "        multiples = set(concat_multiples)\n",
    "    elif output==\"array\":\n",
    "        # Using np.unique()\n",
    "        multiples = np.unique(concat_multiples)\n",
    "    else:\n",
    "        raise ValueError(\"output must be one of 'set' or 'array'\")\n",
    "    \n",
    "    return(multiples)"
   ]
  },
  {
   "cell_type": "markdown",
   "metadata": {},
   "source": [
    "# 4. Test `search_multiples`"
   ]
  },
  {
   "cell_type": "markdown",
   "metadata": {},
   "source": [
    "Same situation with `upp_lim=1000, divisor1=3, divisor=5`"
   ]
  },
  {
   "cell_type": "code",
   "execution_count": 15,
   "metadata": {},
   "outputs": [],
   "source": [
    "multiples_of_3_5_lt_1000 = search_multiples(1000, [3,5], output=\"array\")"
   ]
  },
  {
   "cell_type": "code",
   "execution_count": 23,
   "metadata": {},
   "outputs": [
    {
     "name": "stdout",
     "output_type": "stream",
     "text": [
      "> Answer: 234168\n",
      "  SAME AS ABOVE!\n"
     ]
    }
   ],
   "source": [
    "print(\"> Answer: \" + str(sum(multiples_of_3_5_lt_1000)) + \"\\n  SAME AS ABOVE!\")"
   ]
  },
  {
   "cell_type": "markdown",
   "metadata": {},
   "source": [
    "Push further with `divisor_list=[2,3,5,7,11]`!"
   ]
  },
  {
   "cell_type": "code",
   "execution_count": 17,
   "metadata": {},
   "outputs": [
    {
     "name": "stdout",
     "output_type": "stream",
     "text": [
      "> Answer: 397205\n"
     ]
    }
   ],
   "source": [
    "multiples_of_2_3_5_7_11_lt_1000 = search_multiples(1000, [2,3,5,7,11], output=\"array\")\n",
    "print(\"> Answer: \" + str(sum(multiples_of_2_3_5_7_11_lt_1000)))"
   ]
  },
  {
   "cell_type": "markdown",
   "metadata": {},
   "source": [
    "Push the limit up to `100000` with `divisor_list=[2,3,5,7]`!"
   ]
  },
  {
   "cell_type": "code",
   "execution_count": 22,
   "metadata": {},
   "outputs": [
    {
     "name": "stdout",
     "output_type": "stream",
     "text": [
      "> Answer: 3857207139\n",
      "  Magnificient!\n"
     ]
    }
   ],
   "source": [
    "multiples_of_2_3_5_7_lt_100000 = search_multiples(100000, [2,3,5,7], output=\"array\")\n",
    "print(\"> Answer: \" + str(sum(multiples_of_2_3_5_7_lt_100000))+\"\\n  Magnificient!\")"
   ]
  }
 ],
 "metadata": {
  "kernelspec": {
   "display_name": "base",
   "language": "python",
   "name": "python3"
  },
  "language_info": {
   "codemirror_mode": {
    "name": "ipython",
    "version": 3
   },
   "file_extension": ".py",
   "mimetype": "text/x-python",
   "name": "python",
   "nbconvert_exporter": "python",
   "pygments_lexer": "ipython3",
   "version": "3.9.12"
  },
  "orig_nbformat": 4
 },
 "nbformat": 4,
 "nbformat_minor": 2
}
