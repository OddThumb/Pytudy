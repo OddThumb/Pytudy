{
 "cells": [
  {
   "cell_type": "markdown",
   "metadata": {},
   "source": [
    "~~~\n",
    "Author: Sangin Kim\n",
    "Date  : 4 August 2023\n",
    "~~~\n",
    "> ### Q. 1-4. 리스트에 있는 숫자들의 중앙값을 구하는 프로그램을 만들어라.\n",
    ">  `[7, 9, 14] = 9` \\\n",
    ">  `[24, 31, 35, 49] = 33` \\\n",
    ">  `[17, 37, 37, 47, 57] = 37`\n",
    "> \n",
    "> #### * 중앙값 (median) : \n",
    "> ####  자료를 작은 값에서부터 크기순으로 나열할 때 중앙에 위치한 값 1 자료의 개수가 홀수이면 가운데 위치한 값이 중앙값이다. 2 자료의 개수가 짝수이면 가운데 위치한 두 값의 평균이 중앙값이다."
   ]
  },
  {
   "cell_type": "markdown",
   "metadata": {},
   "source": [
    "----"
   ]
  },
  {
   "cell_type": "markdown",
   "metadata": {},
   "source": [
    "# 1. Define a `median` function\n",
    "-  일부러 새로운 아이디어로 시도하려고 노력함.\n",
    "-  주어진 리스트의 길이 정보가 아닌 인덱스 정보를 활용.\n",
    "-  짝수 길이의 리스트일 경우, 중간 인덱스(`center_idx`)는 `x.5` 값을 가질 것이다."
   ]
  },
  {
   "cell_type": "code",
   "execution_count": 1,
   "metadata": {},
   "outputs": [],
   "source": [
    "# Define custom median function\n",
    "def median(lst):\n",
    "    \"\"\"\n",
    "    Abstract: Calculating median value\n",
    "    Input: list\n",
    "    Output: float\n",
    "    \"\"\"\n",
    "    \n",
    "    import numpy as np\n",
    "    # Sorting\n",
    "    arr = np.array(lst)\n",
    "    arr.sort()\n",
    "    \n",
    "    # Find central index:\n",
    "    ## In case of even length array, it can be 0.5, 1.5, or 2.5 ... \n",
    "    center_idx = (len(arr)-1)/2\n",
    "    \n",
    "    # center_idx is 0? or 0.5?\n",
    "    if center_idx % 1 == 0: # odd length array\n",
    "        median_value = arr[int(center_idx)]\n",
    "    else: # center_idx % 1 == 0.5; even length array \n",
    "        center_left  = int((len(arr)-1)/2 - 0.5)\n",
    "        center_right = int((len(arr)-1)/2 + 0.5)\n",
    "        median_value = (arr[center_left]+arr[center_right])/2\n",
    "    \n",
    "    return(float(median_value))"
   ]
  },
  {
   "cell_type": "markdown",
   "metadata": {},
   "source": [
    "# 2. Test list set"
   ]
  },
  {
   "cell_type": "code",
   "execution_count": 7,
   "metadata": {},
   "outputs": [],
   "source": [
    "# Test lists\n",
    "lst1 = [ 1, 10, 3, 5, 0]   # median will be ... 3\n",
    "lst2 = [ 2, 4, 0, 1, 3, 5] # median will be ... 2.5\n",
    "lst3 = [ 6.5, 5.3, 3.1, 9.9, 0.7, 0.3, 1, 3.3, 2.3,\\\n",
    "        10.8, 7.2, 2.2, 1.35, 5.66, 7.8]"
   ]
  },
  {
   "cell_type": "markdown",
   "metadata": {},
   "source": [
    "# 3. Apply `median` function to test list set"
   ]
  },
  {
   "cell_type": "code",
   "execution_count": 8,
   "metadata": {},
   "outputs": [
    {
     "data": {
      "text/plain": [
       "3.0"
      ]
     },
     "execution_count": 8,
     "metadata": {},
     "output_type": "execute_result"
    }
   ],
   "source": [
    "median(lst1)"
   ]
  },
  {
   "cell_type": "code",
   "execution_count": 9,
   "metadata": {},
   "outputs": [
    {
     "data": {
      "text/plain": [
       "2.5"
      ]
     },
     "execution_count": 9,
     "metadata": {},
     "output_type": "execute_result"
    }
   ],
   "source": [
    "median(lst2)"
   ]
  },
  {
   "cell_type": "code",
   "execution_count": 10,
   "metadata": {},
   "outputs": [
    {
     "data": {
      "text/plain": [
       "3.3"
      ]
     },
     "execution_count": 10,
     "metadata": {},
     "output_type": "execute_result"
    }
   ],
   "source": [
    "median(lst3)"
   ]
  }
 ],
 "metadata": {
  "kernelspec": {
   "display_name": "base",
   "language": "python",
   "name": "python3"
  },
  "language_info": {
   "codemirror_mode": {
    "name": "ipython",
    "version": 3
   },
   "file_extension": ".py",
   "mimetype": "text/x-python",
   "name": "python",
   "nbconvert_exporter": "python",
   "pygments_lexer": "ipython3",
   "version": "3.9.12"
  },
  "orig_nbformat": 4
 },
 "nbformat": 4,
 "nbformat_minor": 2
}
